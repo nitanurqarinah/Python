{
  "nbformat": 4,
  "nbformat_minor": 0,
  "metadata": {
    "colab": {
      "name": "Tugas Fungsi Perhitungan Pathloss Model COST 231.ipynb",
      "provenance": [],
      "authorship_tag": "ABX9TyM9ch7qa8tMaucr4M2xtrOL",
      "include_colab_link": true
    },
    "kernelspec": {
      "name": "python3",
      "display_name": "Python 3"
    }
  },
  "cells": [
    {
      "cell_type": "markdown",
      "metadata": {
        "id": "view-in-github",
        "colab_type": "text"
      },
      "source": [
        "<a href=\"https://colab.research.google.com/github/nitanurqarinah/alia/blob/main/Tugas_Fungsi_Perhitungan_Pathloss_Model_COST_231.ipynb\" target=\"_parent\"><img src=\"https://colab.research.google.com/assets/colab-badge.svg\" alt=\"Open In Colab\"/></a>"
      ]
    },
    {
      "cell_type": "code",
      "metadata": {
        "id": "GI-z1osqgcs2"
      },
      "source": [
        "import numpy as np"
      ],
      "execution_count": 2,
      "outputs": []
    },
    {
      "cell_type": "code",
      "metadata": {
        "id": "FOyKPklPgngW"
      },
      "source": [
        "def pathloss(fc, daerah, hT, hR, d):\n",
        "    \n",
        "    #nilai C1 dan C2\n",
        "    if  400<=fc<=1500:\n",
        "        c1 = 69.55\n",
        "        c2 = 26.16\n",
        "    elif 1500<fc<2000:\n",
        "        c1 = 46.3\n",
        "        c2 = 33.9\n",
        "        \n",
        "    #nilai Cm\n",
        "    if daerah == 'urban':\n",
        "        Cm = 0\n",
        "    elif daerah == 'suburban':\n",
        "        Cm = -2*(np.log10(fc/28))**2-5.4\n",
        "    elif daerah == 'open':\n",
        "        Cm =  -4.78*(np.log10(fc))**2+18.33*np.log10(fc)-40.94\n",
        "    \n",
        "    ahR = 1.1*(np.log10(fc)-0.7)*hR-(1.56*np.log10(fc)-0.8)\n",
        "    Lp = c1+c2*(np.log10(fc))-13.83*(np.log10(hT))-(ahR)+(44.9-6.55*(np.log10(hT)))*np.log10(d)+Cm\n",
        "    return Lp"
      ],
      "execution_count": 3,
      "outputs": []
    },
    {
      "cell_type": "code",
      "metadata": {
        "colab": {
          "base_uri": "https://localhost:8080/"
        },
        "id": "2t2Gn8fPgvpb",
        "outputId": "876064dc-57b5-49b2-f430-7bc786893605"
      },
      "source": [
        "PL = pathloss(1450, 'suburban', 100, 20, 3)\n",
        "print(\"Pathloss = \",PL,\"dB\")"
      ],
      "execution_count": 4,
      "outputs": [
        {
          "output_type": "stream",
          "text": [
            "Pathloss =  78.46844922425304 dB\n"
          ],
          "name": "stdout"
        }
      ]
    }
  ]
}